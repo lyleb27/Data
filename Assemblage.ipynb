{
 "cells": [
  {
   "cell_type": "markdown",
   "metadata": {},
   "source": [
    "# Assemblage liste de données"
   ]
  },
  {
   "cell_type": "markdown",
   "metadata": {},
   "source": [
    "## Ajout d'un colonne & Fusion des fichier"
   ]
  },
  {
   "cell_type": "code",
   "execution_count": 1,
   "metadata": {},
   "outputs": [],
   "source": [
    "import os\n",
    "import pandas as pd"
   ]
  },
  {
   "cell_type": "code",
   "execution_count": 2,
   "metadata": {},
   "outputs": [],
   "source": [
    "dossier = \"CSV\""
   ]
  },
  {
   "cell_type": "code",
   "execution_count": 3,
   "metadata": {},
   "outputs": [
    {
     "ename": "FileNotFoundError",
     "evalue": "[WinError 3] Le chemin d’accès spécifié est introuvable: 'Base'",
     "output_type": "error",
     "traceback": [
      "\u001b[1;31m---------------------------------------------------------------------------\u001b[0m",
      "\u001b[1;31mFileNotFoundError\u001b[0m                         Traceback (most recent call last)",
      "Cell \u001b[1;32mIn[3], line 4\u001b[0m\n\u001b[0;32m      1\u001b[0m \u001b[38;5;66;03m# Test a enlever\u001b[39;00m\n\u001b[0;32m      2\u001b[0m noms_fichiers_formatés \u001b[38;5;241m=\u001b[39m []\n\u001b[1;32m----> 4\u001b[0m \u001b[38;5;28;01mfor\u001b[39;00m fichier \u001b[38;5;129;01min\u001b[39;00m \u001b[43mos\u001b[49m\u001b[38;5;241;43m.\u001b[39;49m\u001b[43mlistdir\u001b[49m\u001b[43m(\u001b[49m\u001b[43mdossier\u001b[49m\u001b[43m)\u001b[49m:\n\u001b[0;32m      5\u001b[0m     \u001b[38;5;28;01mif\u001b[39;00m fichier\u001b[38;5;241m.\u001b[39mendswith(\u001b[38;5;124m\"\u001b[39m\u001b[38;5;124m.csv\u001b[39m\u001b[38;5;124m\"\u001b[39m):\n\u001b[0;32m      6\u001b[0m         \u001b[38;5;66;03m# Suppression de l'extension\u001b[39;00m\n\u001b[0;32m      7\u001b[0m         nom_sans_extension \u001b[38;5;241m=\u001b[39m fichier\u001b[38;5;241m.\u001b[39mreplace(\u001b[38;5;124m'\u001b[39m\u001b[38;5;124m.csv\u001b[39m\u001b[38;5;124m'\u001b[39m, \u001b[38;5;124m'\u001b[39m\u001b[38;5;124m'\u001b[39m)\n",
      "\u001b[1;31mFileNotFoundError\u001b[0m: [WinError 3] Le chemin d’accès spécifié est introuvable: 'Base'"
     ]
    }
   ],
   "source": [
    "# Test a enlever\n",
    "noms_fichiers_formatés = []\n",
    "\n",
    "for fichier in os.listdir(dossier):\n",
    "    if fichier.endswith(\".csv\"):\n",
    "        # Suppression de l'extension\n",
    "        nom_sans_extension = fichier.replace('.csv', '')\n",
    "        # Rajout d'une majuscule au début du nom\n",
    "        nom_formaté = nom_sans_extension[0].upper() + nom_sans_extension[1:]\n",
    "        noms_fichiers_formatés.append(nom_formaté)\n",
    "noms_fichiers_formatés"
   ]
  },
  {
   "cell_type": "code",
   "execution_count": null,
   "metadata": {},
   "outputs": [],
   "source": [
    "donnees_totales = []"
   ]
  },
  {
   "cell_type": "code",
   "execution_count": null,
   "metadata": {},
   "outputs": [],
   "source": [
    "for fichier in os.listdir(dossier):\n",
    "    if fichier.endswith(\".csv\"):\n",
    "        chemin_fichier = os.path.join(dossier, fichier)\n",
    "        # Lecture du fichier CSV\n",
    "        df = pd.read_csv(chemin_fichier)\n",
    "        # Ajout de la colonne \"file\" avec le nom du fichier (sans extension .csv)\n",
    "        nom_sans_extension = fichier.replace('.csv', '')\n",
    "        df['Montagne'] = nom_sans_extension[0].upper() + nom_sans_extension[1:]\n",
    "        # Ajout du DataFrame à la liste\n",
    "        donnees_totales.append(df)\n",
    " "
   ]
  },
  {
   "cell_type": "code",
   "execution_count": null,
   "metadata": {},
   "outputs": [],
   "source": [
    "# Concaténation de tous les DataFrames en un seul\n",
    "donnees_combinees = pd.concat(donnees_totales, ignore_index=True)\n",
    "# Enregistrement des données combinées dans un fichier CSV\n",
    "donnees_combinees.to_csv('Donnees_Combinees.csv', index=False)"
   ]
  },
  {
   "cell_type": "markdown",
   "metadata": {},
   "source": [
    "## Déplacement de colonne"
   ]
  },
  {
   "cell_type": "code",
   "execution_count": null,
   "metadata": {},
   "outputs": [],
   "source": [
    "# Chemin vers le fichier CSV d'entrée et de sortie\n",
    "chemin_fichier_entree = \"Donnees_Combinees.csv\"\n",
    "chemin_fichier_sortie = \"Donnees_Modifiees.csv\""
   ]
  },
  {
   "cell_type": "code",
   "execution_count": null,
   "metadata": {},
   "outputs": [],
   "source": [
    "# Lire le fichier CSV avec pandas\n",
    "donnees = pd.read_csv(chemin_fichier_entree)"
   ]
  },
  {
   "cell_type": "code",
   "execution_count": null,
   "metadata": {},
   "outputs": [],
   "source": [
    "# Réorganiser les colonnes, en mettant 'Montagne' devant 'Date'\n",
    "colonnes = ['Montagne', 'Date', 'Name', 'Nationality', 'Cause of death']"
   ]
  },
  {
   "cell_type": "code",
   "execution_count": null,
   "metadata": {},
   "outputs": [],
   "source": [
    "# Réorganiser les colonnes du DataFrame\n",
    "donnees = donnees[colonnes]"
   ]
  },
  {
   "cell_type": "code",
   "execution_count": null,
   "metadata": {},
   "outputs": [],
   "source": [
    "# Écrire le DataFrame modifié dans un nouveau fichier CSV\n",
    "donnees.to_csv(chemin_fichier_sortie, index=False)"
   ]
  },
  {
   "cell_type": "markdown",
   "metadata": {},
   "source": [
    "## Date changement de format"
   ]
  },
  {
   "cell_type": "code",
   "execution_count": null,
   "metadata": {},
   "outputs": [],
   "source": [
    "from datetime import datetime"
   ]
  },
  {
   "cell_type": "code",
   "execution_count": null,
   "metadata": {},
   "outputs": [],
   "source": [
    "# Fonction pour convertir la date en format jour/mois/année en nombre\n",
    "def convertir_date(date_str):\n",
    "    # Liste des formats possibles de date\n",
    "    formats = ['%d %B %Y', '%B %d, %Y', '%Y, %dth %B', '%B %Y', '%Y']\n",
    "\n",
    "    # Essayer de convertir la date avec différents formats\n",
    "    for fmt in formats:\n",
    "        try:\n",
    "            date_obj = datetime.strptime(date_str, fmt)\n",
    "            # Si la date ne contient pas de jour, retourner seulement le mois et l'année\n",
    "            if '%d' not in fmt:\n",
    "                return date_obj.strftime('%m/%Y')\n",
    "            else:\n",
    "                return date_obj.strftime('%d/%m/%Y')\n",
    "        except ValueError:\n",
    "            pass\n",
    "    # Si aucun format ne correspond, retourner la date telle quelle\n",
    "    return date_str"
   ]
  },
  {
   "cell_type": "code",
   "execution_count": null,
   "metadata": {},
   "outputs": [],
   "source": [
    "# Chemin vers le fichier CSV d'entrée et de sortie\n",
    "chemin_fichier_entree = \"Donnees_Combinees.csv\"\n",
    "chemin_fichier_sortie = \"Donnees_Modifiees.csv\"\n",
    "\n",
    "# Lire le fichier CSV avec pandas\n",
    "donnees = pd.read_csv(chemin_fichier_entree)\n",
    "\n",
    "# Appliquer la fonction de conversion sur la colonne 'Date'\n",
    "donnees['Date'] = donnees['Date'].apply(convertir_date)\n",
    "\n",
    "# Réorganiser les colonnes, en mettant 'Montagne' devant 'Date'\n",
    "colonnes = ['Montagne', 'Date', 'Name', 'Nationality', 'Cause of death']\n",
    "\n",
    "# Réorganiser les colonnes du DataFrame\n",
    "donnees = donnees[colonnes]\n",
    "\n",
    "# Écrire le DataFrame modifié dans un nouveau fichier CSV\n",
    "donnees.to_csv(chemin_fichier_sortie, index=False)"
   ]
  }
 ],
 "metadata": {
  "kernelspec": {
   "display_name": "Python 3",
   "language": "python",
   "name": "python3"
  },
  "language_info": {
   "codemirror_mode": {
    "name": "ipython",
    "version": 3
   },
   "file_extension": ".py",
   "mimetype": "text/x-python",
   "name": "python",
   "nbconvert_exporter": "python",
   "pygments_lexer": "ipython3",
   "version": "3.12.0"
  }
 },
 "nbformat": 4,
 "nbformat_minor": 2
}
