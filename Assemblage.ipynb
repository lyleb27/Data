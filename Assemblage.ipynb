{
 "cells": [
  {
   "cell_type": "markdown",
   "metadata": {},
   "source": [
    "# Assemblage liste de données"
   ]
  },
  {
   "cell_type": "markdown",
   "metadata": {},
   "source": [
    "## Ajout d'un colonne & Fusion des fichier"
   ]
  },
  {
   "cell_type": "code",
   "execution_count": 93,
   "metadata": {},
   "outputs": [],
   "source": [
    "import os\n",
    "import pandas as pd"
   ]
  },
  {
   "cell_type": "code",
   "execution_count": 94,
   "metadata": {},
   "outputs": [],
   "source": [
    "dossier = \"CSV\"\n",
    "fichiers_a_inclure = [\"annapurna-I.csv\", \"broad-peak.csv\", \"cho-oyu.csv\", \"dhaulagiri-I.csv\", \"everest.csv\", \"gasherbrum-I.csv\", \"gasherbrum-II.csv\", \"k2.csv\", \"kangchenjunga.csv\", \"lhotse.csv\", \"makalu.csv\", \"manaslu.csv\", \"nanga-parbat.csv\", \"shishapangma.csv\"]"
   ]
  },
  {
   "cell_type": "code",
   "execution_count": 95,
   "metadata": {},
   "outputs": [
    {
     "data": {
      "text/plain": [
       "['Annapurna-I',\n",
       " 'Broad-peak',\n",
       " 'Cho-oyu',\n",
       " 'Dhaulagiri-I',\n",
       " 'Everest',\n",
       " 'Gasherbrum-I',\n",
       " 'Gasherbrum-II',\n",
       " 'K2',\n",
       " 'Kangchenjunga',\n",
       " 'Lhotse',\n",
       " 'Makalu',\n",
       " 'Manaslu',\n",
       " 'Mountain_ranges',\n",
       " 'Nanga-parbat',\n",
       " 'Shishapangma']"
      ]
     },
     "execution_count": 95,
     "metadata": {},
     "output_type": "execute_result"
    }
   ],
   "source": [
    "# Test a enlever\n",
    "noms_fichiers_formatés = []\n",
    "\n",
    "for fichier in os.listdir(dossier):\n",
    "    if fichier.endswith(\".csv\"):\n",
    "        # Suppression de l'extension\n",
    "        nom_sans_extension = fichier.replace('.csv', '')\n",
    "        # Rajout d'une majuscule au début du nom\n",
    "        nom_formaté = nom_sans_extension[0].upper() + nom_sans_extension[1:]\n",
    "        noms_fichiers_formatés.append(nom_formaté)\n",
    "noms_fichiers_formatés"
   ]
  },
  {
   "cell_type": "code",
   "execution_count": 96,
   "metadata": {},
   "outputs": [],
   "source": [
    "donnees_totales = []"
   ]
  },
  {
   "cell_type": "code",
   "execution_count": 97,
   "metadata": {},
   "outputs": [],
   "source": [
    "for fichier in fichiers_a_inclure:\n",
    "    chemin_fichier = os.path.join(dossier, fichier)\n",
    "    # Lecture du fichier CSV\n",
    "    df = pd.read_csv(chemin_fichier)\n",
    "    # Ajout de la colonne \"file\" avec le nom du fichier (sans extension .csv)\n",
    "    nom_sans_extension = fichier.replace('.csv', '')\n",
    "    df['Montagne'] = nom_sans_extension[0].upper() + nom_sans_extension[1:]\n",
    "    # Ajout du DataFrame à la liste\n",
    "    donnees_totales.append(df)\n",
    " "
   ]
  },
  {
   "cell_type": "code",
   "execution_count": 98,
   "metadata": {},
   "outputs": [],
   "source": [
    "# Concaténation de tous les DataFrames en un seul\n",
    "donnees_combinees = pd.concat(donnees_totales, ignore_index=True)\n",
    "# Enregistrement des données combinées dans un fichier CSV\n",
    "donnees_combinees.to_csv('Donnees_Combinees.csv', index=False)"
   ]
  },
  {
   "cell_type": "markdown",
   "metadata": {},
   "source": [
    "## Déplacement de colonne"
   ]
  },
  {
   "cell_type": "code",
   "execution_count": 99,
   "metadata": {},
   "outputs": [],
   "source": [
    "# Chemin vers le fichier CSV d'entrée et de sortie\n",
    "chemin_fichier_entree = \"Donnees_Combinees.csv\"\n",
    "chemin_fichier_sortie = \"Donnees_Modifiees.csv\""
   ]
  },
  {
   "cell_type": "code",
   "execution_count": 100,
   "metadata": {},
   "outputs": [],
   "source": [
    "# Lire le fichier CSV avec pandas\n",
    "donnees = pd.read_csv(chemin_fichier_entree)"
   ]
  },
  {
   "cell_type": "code",
   "execution_count": 101,
   "metadata": {},
   "outputs": [],
   "source": [
    "# Réorganiser les colonnes, en mettant 'Montagne' devant 'Date'\n",
    "colonnes = ['Montagne', 'Date', 'Name', 'Nationality', 'Cause of death']"
   ]
  },
  {
   "cell_type": "code",
   "execution_count": 102,
   "metadata": {},
   "outputs": [],
   "source": [
    "# Réorganiser les colonnes du DataFrame\n",
    "donnees = donnees[colonnes]"
   ]
  },
  {
   "cell_type": "code",
   "execution_count": 103,
   "metadata": {},
   "outputs": [],
   "source": [
    "# Écrire le DataFrame modifié dans un nouveau fichier CSV\n",
    "donnees.to_csv(chemin_fichier_sortie, index=False)"
   ]
  },
  {
   "cell_type": "markdown",
   "metadata": {},
   "source": [
    "## Date changement de format"
   ]
  },
  {
   "cell_type": "code",
   "execution_count": 104,
   "metadata": {},
   "outputs": [],
   "source": [
    "from datetime import datetime"
   ]
  },
  {
   "cell_type": "code",
   "execution_count": 105,
   "metadata": {},
   "outputs": [],
   "source": [
    "# Fonction pour convertir la date en format jour/mois/année en nombre\n",
    "def convertir_date(date_str):\n",
    "    # Liste des formats possibles de date\n",
    "    formats = ['%d %B %Y', '%B %d, %Y', '%Y, %dth %B', '%B %Y', '%Y']\n",
    "\n",
    "    # Essayer de convertir la date avec différents formats\n",
    "    for fmt in formats:\n",
    "        try:\n",
    "            date_obj = datetime.strptime(date_str, fmt)\n",
    "            # Si la date ne contient pas de jour, retourner seulement le mois et l'année\n",
    "            if '%d' not in fmt:\n",
    "                return date_obj.strftime('%m/%Y')\n",
    "            else:\n",
    "                return date_obj.strftime('%d/%m/%Y')\n",
    "        except ValueError:\n",
    "            pass\n",
    "    # Si aucun format ne correspond, retourner la date telle quelle\n",
    "    return date_str"
   ]
  },
  {
   "cell_type": "code",
   "execution_count": 106,
   "metadata": {},
   "outputs": [],
   "source": [
    "# Chemin vers le fichier CSV d'entrée et de sortie\n",
    "chemin_fichier_entree = \"Donnees_Combinees.csv\"\n",
    "chemin_fichier_sortie = \"Donnees_Modifiees.csv\"\n",
    "\n",
    "# Lire le fichier CSV avec pandas\n",
    "donnees = pd.read_csv(chemin_fichier_entree)\n",
    "\n",
    "# Appliquer la fonction de conversion sur la colonne 'Date'\n",
    "donnees['Date'] = donnees['Date'].apply(convertir_date)\n",
    "\n",
    "# Réorganiser les colonnes, en mettant 'Montagne' devant 'Date'\n",
    "colonnes = ['Montagne', 'Date', 'Name', 'Nationality', 'Cause of death']\n",
    "\n",
    "# Réorganiser les colonnes du DataFrame\n",
    "donnees = donnees[colonnes]\n",
    "\n",
    "# Écrire le DataFrame modifié dans un nouveau fichier CSV\n",
    "donnees.to_csv(chemin_fichier_sortie, index=False)"
   ]
  }
 ],
 "metadata": {
  "kernelspec": {
   "display_name": "Python 3",
   "language": "python",
   "name": "python3"
  },
  "language_info": {
   "codemirror_mode": {
    "name": "ipython",
    "version": 3
   },
   "file_extension": ".py",
   "mimetype": "text/x-python",
   "name": "python",
   "nbconvert_exporter": "python",
   "pygments_lexer": "ipython3",
   "version": "3.12.0"
  }
 },
 "nbformat": 4,
 "nbformat_minor": 2
}
