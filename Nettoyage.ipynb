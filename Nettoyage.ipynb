{
 "cells": [
  {
   "cell_type": "markdown",
   "metadata": {},
   "source": [
    "# Assemblage liste de données"
   ]
  },
  {
   "cell_type": "code",
   "execution_count": 1,
   "metadata": {},
   "outputs": [],
   "source": [
    "import os\n",
    "import pandas as pd\n",
    "from datetime import datetime\n",
    "import dateparser"
   ]
  },
  {
   "cell_type": "code",
   "execution_count": 2,
   "metadata": {},
   "outputs": [],
   "source": [
    "# Variable\n",
    "dossier = \"CSV\"\n",
    "fichiers_a_inclure = [\"annapurna-I.csv\", \"broad-peak.csv\", \"cho-oyu.csv\", \"dhaulagiri-I.csv\", \"everest.csv\", \"gasherbrum-I.csv\", \"gasherbrum-II.csv\", \"k2.csv\", \"kangchenjunga.csv\", \"lhotse.csv\", \"makalu.csv\", \"manaslu.csv\", \"nanga-parbat.csv\", \"shishapangma.csv\"]\n",
    "Nom_du_fichier = \"1_Mountain_death.csv\"\n",
    "donnees_totales = []"
   ]
  },
  {
   "cell_type": "markdown",
   "metadata": {},
   "source": [
    "## Gestion des noms de montagnes"
   ]
  },
  {
   "cell_type": "code",
   "execution_count": 3,
   "metadata": {},
   "outputs": [],
   "source": [
    "# Formater le nom des montagnes\n",
    "def formater_nom_montagne(nom):\n",
    "    return '-'.join([mot.capitalize() for mot in nom.split('-')])"
   ]
  },
  {
   "cell_type": "code",
   "execution_count": 4,
   "metadata": {},
   "outputs": [
    {
     "ename": "FileNotFoundError",
     "evalue": "[WinError 3] Le chemin d’accès spécifié est introuvable: 'Base'",
     "output_type": "error",
     "traceback": [
      "\u001b[1;31m---------------------------------------------------------------------------\u001b[0m",
      "\u001b[1;31mFileNotFoundError\u001b[0m                         Traceback (most recent call last)",
      "Cell \u001b[1;32mIn[4], line 2\u001b[0m\n\u001b[0;32m      1\u001b[0m \u001b[38;5;66;03m# Parcours des fichiers dans le dossier\u001b[39;00m\n\u001b[1;32m----> 2\u001b[0m \u001b[38;5;28;01mfor\u001b[39;00m fichier \u001b[38;5;129;01min\u001b[39;00m \u001b[43mos\u001b[49m\u001b[38;5;241;43m.\u001b[39;49m\u001b[43mlistdir\u001b[49m\u001b[43m(\u001b[49m\u001b[43mdossier\u001b[49m\u001b[43m)\u001b[49m:\n\u001b[0;32m      3\u001b[0m     \u001b[38;5;28;01mif\u001b[39;00m fichier\u001b[38;5;241m.\u001b[39mendswith(\u001b[38;5;124m\"\u001b[39m\u001b[38;5;124m.csv\u001b[39m\u001b[38;5;124m\"\u001b[39m) \u001b[38;5;129;01mand\u001b[39;00m fichier \u001b[38;5;129;01min\u001b[39;00m fichiers_a_inclure:\n\u001b[0;32m      4\u001b[0m         chemin_fichier \u001b[38;5;241m=\u001b[39m os\u001b[38;5;241m.\u001b[39mpath\u001b[38;5;241m.\u001b[39mjoin(dossier, fichier)\n",
      "\u001b[1;31mFileNotFoundError\u001b[0m: [WinError 3] Le chemin d’accès spécifié est introuvable: 'Base'"
     ]
    }
   ],
   "source": [
    "# Parcours des fichiers dans le dossier\n",
    "for fichier in os.listdir(dossier):\n",
    "    if fichier.endswith(\".csv\") and fichier in fichiers_a_inclure:\n",
    "        chemin_fichier = os.path.join(dossier, fichier)\n",
    "        df = pd.read_csv(chemin_fichier)\n",
    "        # Formater le nom de la montagne\n",
    "        nom_montagne = formater_nom_montagne(fichier.replace('.csv', ''))\n",
    "        df['Montagne'] = nom_montagne\n",
    "        donnees_totales.append(df)"
   ]
  },
  {
   "cell_type": "code",
   "execution_count": null,
   "metadata": {},
   "outputs": [],
   "source": [
    "# Enregistrer\n",
    "donnees_combinees = pd.concat(donnees_totales, ignore_index=True)\n",
    "donnees_combinees.to_csv(Nom_du_fichier, index=False)"
   ]
  },
  {
   "cell_type": "markdown",
   "metadata": {},
   "source": [
    "## Suppression des mauvaise données"
   ]
  },
  {
   "cell_type": "code",
   "execution_count": null,
   "metadata": {},
   "outputs": [],
   "source": [
    "# suprétion de donné \n",
    "donnees = pd.read_csv(Nom_du_fichier)\n",
    "donnees = donnees.replace(to_replace=r'(\\s*)\\[(.*?)\\]', value='', regex=True)\n",
    "donnees['Nationality'] = donnees['Nationality'].str.replace('Nazi ', '')"
   ]
  },
  {
   "cell_type": "markdown",
   "metadata": {},
   "source": [
    "## Date mise au propre"
   ]
  },
  {
   "cell_type": "code",
   "execution_count": null,
   "metadata": {},
   "outputs": [],
   "source": [
    "# date\n",
    "def convertir_date(date_str):\n",
    "    parsed_date = dateparser.parse(date_str, languages=['en'])\n",
    "    if parsed_date:\n",
    "        if parsed_date.day == 1:\n",
    "            return parsed_date.strftime('%m/%Y')\n",
    "        else:\n",
    "            return parsed_date.strftime('%d/%m/%Y')\n",
    "    return date_str"
   ]
  },
  {
   "cell_type": "code",
   "execution_count": null,
   "metadata": {},
   "outputs": [],
   "source": [
    "donnees['Date'] = donnees['Date'].replace({\"Summer 1990\": \"05/07/1990\", \"Winter 1999\": \"16/01/1999\", \"mid July 1982\": \"15/07/1982\", \"late June 1975\": \"28/06/1975\", \"19 May 1996 or May 1997\": \"19/05/1997\"})\n",
    "donnees['Date'] = donnees['Date'].apply(convertir_date)"
   ]
  },
  {
   "cell_type": "markdown",
   "metadata": {},
   "source": [
    "## Réorganisation des colonnes"
   ]
  },
  {
   "cell_type": "code",
   "execution_count": null,
   "metadata": {},
   "outputs": [],
   "source": [
    "colonnes = ['Montagne', 'Date', 'Name', 'Nationality', 'Cause of death']\n",
    "donnees = donnees[colonnes]"
   ]
  },
  {
   "cell_type": "code",
   "execution_count": null,
   "metadata": {},
   "outputs": [],
   "source": [
    "# Enregistrer final\n",
    "donnees.to_csv(os.path.join(dossier, Nom_du_fichier), index=False)\n",
    "os.remove(Nom_du_fichier)"
   ]
  }
 ],
 "metadata": {
  "kernelspec": {
   "display_name": "Python 3",
   "language": "python",
   "name": "python3"
  },
  "language_info": {
   "codemirror_mode": {
    "name": "ipython",
    "version": 3
   },
   "file_extension": ".py",
   "mimetype": "text/x-python",
   "name": "python",
   "nbconvert_exporter": "python",
   "pygments_lexer": "ipython3",
   "version": "3.12.0"
  }
 },
 "nbformat": 4,
 "nbformat_minor": 2
}
