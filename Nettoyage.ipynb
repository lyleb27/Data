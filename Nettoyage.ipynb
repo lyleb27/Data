{
 "cells": [
  {
   "cell_type": "markdown",
   "metadata": {},
   "source": [
    "# Assemblage liste de données"
   ]
  },
  {
   "cell_type": "code",
   "execution_count": null,
   "metadata": {},
   "outputs": [],
   "source": [
    "import os\n",
    "import pandas as pd\n",
    "from datetime import datetime\n",
    "import dateparser"
   ]
  },
  {
   "cell_type": "code",
   "execution_count": null,
   "metadata": {},
   "outputs": [],
   "source": [
    "# Variable\n",
    "dossier = \"Base\"\n",
    "fichiers_a_inclure = [\"annapurna-I.csv\", \"broad-peak.csv\", \"cho-oyu.csv\", \"dhaulagiri-I.csv\", \"everest.csv\", \"gasherbrum-I.csv\", \"gasherbrum-II.csv\", \"k2.csv\", \"kangchenjunga.csv\", \"lhotse.csv\", \"makalu.csv\", \"manaslu.csv\", \"nanga-parbat.csv\", \"shishapangma.csv\"]\n",
    "Nom_du_fichier = \"2.csv\"\n",
    "donnees_totales = []"
   ]
  },
  {
   "cell_type": "markdown",
   "metadata": {},
   "source": [
    "## Gestion des noms de montagnes"
   ]
  },
  {
   "cell_type": "code",
   "execution_count": null,
   "metadata": {},
   "outputs": [],
   "source": [
    "# Formater le nom des montagnes\n",
    "def formater_nom_montagne(nom):\n",
    "    return '-'.join([mot.capitalize() for mot in nom.split('-')])"
   ]
  },
  {
   "cell_type": "code",
   "execution_count": null,
   "metadata": {},
   "outputs": [],
   "source": [
    "# Parcours des fichiers dans le dossier\n",
    "for fichier in os.listdir(dossier):\n",
    "    if fichier.endswith(\".csv\") and fichier in fichiers_a_inclure:\n",
    "        chemin_fichier = os.path.join(dossier, fichier)\n",
    "        df = pd.read_csv(chemin_fichier)\n",
    "        # Formater le nom de la montagne\n",
    "        nom_montagne = formater_nom_montagne(fichier.replace('.csv', ''))\n",
    "        df['Montagne'] = nom_montagne\n",
    "        donnees_totales.append(df)"
   ]
  },
  {
   "cell_type": "code",
   "execution_count": null,
   "metadata": {},
   "outputs": [],
   "source": [
    "# Enregistrer\n",
    "donnees_combinees = pd.concat(donnees_totales, ignore_index=True)\n",
    "donnees_combinees.to_csv(Nom_du_fichier, index=False)"
   ]
  },
  {
   "cell_type": "markdown",
   "metadata": {},
   "source": [
    "## Suppression des mauvaise données"
   ]
  },
  {
   "cell_type": "code",
   "execution_count": null,
   "metadata": {},
   "outputs": [],
   "source": [
    "# suprétion de donné \n",
    "donnees = pd.read_csv(Nom_du_fichier)\n",
    "donnees = donnees.replace(to_replace=r'(\\s*)\\[(.*?)\\]', value='', regex=True)\n",
    "donnees['Nationality'] = donnees['Nationality'].str.replace('Nazi ', '')"
   ]
  },
  {
   "cell_type": "markdown",
   "metadata": {},
   "source": [
    "## Date mise au propre"
   ]
  },
  {
   "cell_type": "code",
   "execution_count": null,
   "metadata": {},
   "outputs": [],
   "source": [
    "# date\n",
    "def convertir_date(date_str):\n",
    "    parsed_date = dateparser.parse(date_str, languages=['en'])\n",
    "    if parsed_date:\n",
    "        if parsed_date.day == 1:\n",
    "            return parsed_date.strftime('%m/%Y')\n",
    "        else:\n",
    "            return parsed_date.strftime('%d/%m/%Y')\n",
    "    return date_str"
   ]
  },
  {
   "cell_type": "code",
   "execution_count": null,
   "metadata": {},
   "outputs": [],
   "source": [
    "donnees['Date'] = donnees['Date'].replace({\"Summer 1990\": \"05/07/1990\", \"Winter 1999\": \"16/01/1999\", \"mid July 1982\": \"15/07/1982\", \"late June 1975\": \"28/06/1975\", \"19 May 1996 or May 1997\": \"19/05/1997\"})\n",
    "donnees['Date'] = donnees['Date'].apply(convertir_date)"
   ]
  },
  {
   "cell_type": "markdown",
   "metadata": {},
   "source": [
    "## Réorganisation des colonnes"
   ]
  },
  {
   "cell_type": "code",
   "execution_count": null,
   "metadata": {},
   "outputs": [],
   "source": [
    "colonnes = ['Montagne', 'Date', 'Name', 'Nationality', 'Cause of death']\n",
    "donnees = donnees[colonnes]"
   ]
  },
  {
   "cell_type": "code",
   "execution_count": null,
   "metadata": {},
   "outputs": [],
   "source": [
    "# Enregistrer final\n",
    "donnees.to_csv(Nom_du_fichier, index=False)"
   ]
  }
 ],
 "metadata": {
  "kernelspec": {
   "display_name": "Python 3",
   "language": "python",
   "name": "python3"
  },
  "language_info": {
   "codemirror_mode": {
    "name": "ipython",
    "version": 3
   },
   "file_extension": ".py",
   "mimetype": "text/x-python",
   "name": "python",
   "nbconvert_exporter": "python",
   "pygments_lexer": "ipython3",
   "version": "3.12.0"
  }
 },
 "nbformat": 4,
 "nbformat_minor": 2
}
